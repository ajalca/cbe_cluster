{
 "cells": [
  {
   "cell_type": "code",
   "execution_count": 26,
   "id": "7fb646a5",
   "metadata": {},
   "outputs": [],
   "source": [
    "import pandas as pd\n",
    "from sklearn.cluster import KMeans\n",
    "import seaborn as sns"
   ]
  },
  {
   "cell_type": "code",
   "execution_count": 2,
   "id": "1792b66e",
   "metadata": {},
   "outputs": [
    {
     "data": {
      "text/html": [
       "<div>\n",
       "<style scoped>\n",
       "    .dataframe tbody tr th:only-of-type {\n",
       "        vertical-align: middle;\n",
       "    }\n",
       "\n",
       "    .dataframe tbody tr th {\n",
       "        vertical-align: top;\n",
       "    }\n",
       "\n",
       "    .dataframe thead th {\n",
       "        text-align: right;\n",
       "    }\n",
       "</style>\n",
       "<table border=\"1\" class=\"dataframe\">\n",
       "  <thead>\n",
       "    <tr style=\"text-align: right;\">\n",
       "      <th></th>\n",
       "      <th>Longitude</th>\n",
       "      <th>Latitude</th>\n",
       "    </tr>\n",
       "  </thead>\n",
       "  <tbody>\n",
       "    <tr>\n",
       "      <th>0</th>\n",
       "      <td>-80.43876447751417</td>\n",
       "      <td>-0,9519244059855368</td>\n",
       "    </tr>\n",
       "    <tr>\n",
       "      <th>1</th>\n",
       "      <td>-80.42499386576185</td>\n",
       "      <td>-0,7890541493993685</td>\n",
       "    </tr>\n",
       "    <tr>\n",
       "      <th>2</th>\n",
       "      <td>-78.4154028108096</td>\n",
       "      <td>-0,0191854793665598</td>\n",
       "    </tr>\n",
       "    <tr>\n",
       "      <th>3</th>\n",
       "      <td>-79.91790871558031</td>\n",
       "      <td>-2,1991032880049435</td>\n",
       "    </tr>\n",
       "    <tr>\n",
       "      <th>4</th>\n",
       "      <td>-80.48995382890078</td>\n",
       "      <td>-0,496245130223165</td>\n",
       "    </tr>\n",
       "  </tbody>\n",
       "</table>\n",
       "</div>"
      ],
      "text/plain": [
       "            Longitude             Latitude\n",
       "0  -80.43876447751417  -0,9519244059855368\n",
       "1  -80.42499386576185  -0,7890541493993685\n",
       "2   -78.4154028108096  -0,0191854793665598\n",
       "3  -79.91790871558031  -2,1991032880049435\n",
       "4  -80.48995382890078   -0,496245130223165"
      ]
     },
     "execution_count": 2,
     "metadata": {},
     "output_type": "execute_result"
    }
   ],
   "source": [
    "#Cargar los datos del archivo .txt\n",
    "data = pd.read_csv(\"data_ecu.txt\", delimiter=\"\\t\", header=0)\n",
    "data.head()"
   ]
  },
  {
   "cell_type": "code",
   "execution_count": 3,
   "id": "c7e6b2e4",
   "metadata": {},
   "outputs": [
    {
     "name": "stdout",
     "output_type": "stream",
     "text": [
      "<class 'pandas.core.frame.DataFrame'>\n",
      "RangeIndex: 305 entries, 0 to 304\n",
      "Data columns (total 2 columns):\n",
      " #   Column     Non-Null Count  Dtype \n",
      "---  ------     --------------  ----- \n",
      " 0   Longitude  290 non-null    object\n",
      " 1   Latitude   305 non-null    object\n",
      "dtypes: object(2)\n",
      "memory usage: 4.9+ KB\n"
     ]
    }
   ],
   "source": [
    "# Verificar cuantos registros tengo en latitud y longitud\n",
    "data.info()"
   ]
  },
  {
   "cell_type": "code",
   "execution_count": 4,
   "id": "d237540c",
   "metadata": {},
   "outputs": [
    {
     "data": {
      "text/plain": [
       "Longitude    15\n",
       "Latitude      0\n",
       "dtype: int64"
      ]
     },
     "execution_count": 4,
     "metadata": {},
     "output_type": "execute_result"
    }
   ],
   "source": [
    "data.isnull().sum()"
   ]
  },
  {
   "cell_type": "code",
   "execution_count": 5,
   "id": "cf54be4c",
   "metadata": {},
   "outputs": [],
   "source": [
    "# Reemplazar comas por puntos en las columnas de Longitud y Latitud\n",
    "data['Longitude'] = data['Longitude'].str.replace(',', '.')\n",
    "data['Latitude'] = data['Latitude'].str.replace(',', '.')"
   ]
  },
  {
   "cell_type": "code",
   "execution_count": 6,
   "id": "b9469f89",
   "metadata": {},
   "outputs": [],
   "source": [
    "data['Longitude'] = data['Longitude'].replace(\"error\", pd.NA)\n",
    "data['Latitude'] = data['Latitude'].replace(\"error\", pd.NA)"
   ]
  },
  {
   "cell_type": "code",
   "execution_count": 7,
   "id": "1a947f47",
   "metadata": {},
   "outputs": [],
   "source": [
    "# Guardar los índices de las filas con valores no válidos\n",
    "invalid_rows = data[data['Longitude'].isnull() | data['Latitude'].isnull()].index"
   ]
  },
  {
   "cell_type": "code",
   "execution_count": 8,
   "id": "561db149",
   "metadata": {},
   "outputs": [
    {
     "data": {
      "text/plain": [
       "18"
      ]
     },
     "execution_count": 8,
     "metadata": {},
     "output_type": "execute_result"
    }
   ],
   "source": [
    "len(invalid_rows)"
   ]
  },
  {
   "cell_type": "code",
   "execution_count": 9,
   "id": "b82c691d",
   "metadata": {},
   "outputs": [],
   "source": [
    "# Eliminar filas que contengan valores no numéricos o nulos\n",
    "data = data[pd.to_numeric(data['Longitude'], errors='coerce').notnull()]\n",
    "data = data[pd.to_numeric(data['Latitude'], errors='coerce').notnull()]"
   ]
  },
  {
   "cell_type": "code",
   "execution_count": 10,
   "id": "dc0ca6a0",
   "metadata": {},
   "outputs": [
    {
     "name": "stdout",
     "output_type": "stream",
     "text": [
      "<class 'pandas.core.frame.DataFrame'>\n",
      "Int64Index: 287 entries, 0 to 299\n",
      "Data columns (total 2 columns):\n",
      " #   Column     Non-Null Count  Dtype \n",
      "---  ------     --------------  ----- \n",
      " 0   Longitude  287 non-null    object\n",
      " 1   Latitude   287 non-null    object\n",
      "dtypes: object(2)\n",
      "memory usage: 6.7+ KB\n"
     ]
    }
   ],
   "source": [
    "data.info()"
   ]
  },
  {
   "cell_type": "code",
   "execution_count": 11,
   "id": "220be77b",
   "metadata": {},
   "outputs": [],
   "source": [
    "# Eliminar filas inválidas para ajustar el modelo de K-means\n",
    "valid_data = data.dropna(subset=['Longitude', 'Latitude'])"
   ]
  },
  {
   "cell_type": "code",
   "execution_count": 12,
   "id": "b3137dc6",
   "metadata": {},
   "outputs": [],
   "source": [
    "# Conversión de tipo de dato\n",
    "data['Longitude'] = data['Longitude'].astype(float)\n",
    "data['Latitude'] = data['Latitude'].astype(float)"
   ]
  },
  {
   "cell_type": "code",
   "execution_count": 13,
   "id": "59df9b0c",
   "metadata": {},
   "outputs": [],
   "source": [
    "# Definir K-means con 3 clusters\n",
    "kmeans = KMeans(n_clusters = 3, random_state = 42)"
   ]
  },
  {
   "cell_type": "code",
   "execution_count": 14,
   "id": "14666abe",
   "metadata": {},
   "outputs": [
    {
     "data": {
      "text/plain": [
       "KMeans(n_clusters=3, random_state=42)"
      ]
     },
     "execution_count": 14,
     "metadata": {},
     "output_type": "execute_result"
    }
   ],
   "source": [
    "# Ajustar los datos de latitud y longitud\n",
    "coordinates_ecu = data[['Longitude', 'Latitude']].values\n",
    "kmeans.fit(coordinates_ecu)"
   ]
  },
  {
   "cell_type": "code",
   "execution_count": 15,
   "id": "c228005f",
   "metadata": {},
   "outputs": [],
   "source": [
    "# Predecir etiquetas\n",
    "labels = kmeans.labels_"
   ]
  },
  {
   "cell_type": "code",
   "execution_count": 16,
   "id": "2a0d6229",
   "metadata": {},
   "outputs": [
    {
     "data": {
      "text/plain": [
       "array([0, 0, 1, 2, 0, 1, 1, 2, 0, 2, 0, 2, 1, 0, 0, 0, 1, 1, 2, 1, 0, 0,\n",
       "       1, 2, 0, 0, 1, 0, 2, 1, 2, 2, 0, 1, 2, 2, 2, 2, 2, 2, 0, 2, 2, 2,\n",
       "       0, 0, 1, 0, 1, 1, 0, 2, 0, 0, 2, 2, 1, 2, 0, 2, 2, 1, 1, 2, 2, 0,\n",
       "       2, 1, 1, 1, 0, 1, 1, 0, 2, 2, 2, 0, 1, 1, 2, 1, 2, 1, 1, 2, 2, 2,\n",
       "       1, 1, 2, 0, 2, 2, 1, 1, 0, 2, 0, 2, 2, 1, 0, 0, 1, 2, 1, 1, 2, 0,\n",
       "       0, 1, 1, 0, 1, 0, 2, 1, 1, 1, 1, 0, 2, 1, 1, 0, 1, 1, 1, 1, 0, 0,\n",
       "       1, 1, 1, 2, 1, 1, 1, 1, 0, 0, 1, 2, 2, 2, 0, 1, 1, 0, 0, 2, 1, 2,\n",
       "       0, 1, 2, 2, 2, 1, 0, 0, 1, 2, 2, 0, 0, 2, 2, 1, 2, 0, 1, 2, 0, 0,\n",
       "       1, 0, 0, 1, 2, 2, 2, 1, 0, 0, 0, 2, 0, 2, 0, 2, 1, 2, 1, 0, 0, 1,\n",
       "       2, 1, 1, 0, 2, 2, 0, 2, 2, 0, 1, 2, 1, 0, 0, 1, 2, 0, 2, 0, 0, 2,\n",
       "       0, 0, 1, 2, 2, 2, 0, 0, 0, 0, 1, 2, 0, 1, 1, 0, 0, 2, 1, 2, 1, 2,\n",
       "       1, 1, 2, 2, 0, 2, 2, 2, 0, 2, 2, 1, 1, 0, 0, 2, 2, 1, 1, 0, 1, 1,\n",
       "       2, 2, 0, 0, 2, 1, 0, 1, 0, 1, 1, 1, 2, 2, 0, 1, 0, 2, 1, 2, 1, 0,\n",
       "       1])"
      ]
     },
     "execution_count": 16,
     "metadata": {},
     "output_type": "execute_result"
    }
   ],
   "source": [
    "labels"
   ]
  },
  {
   "cell_type": "code",
   "execution_count": 17,
   "id": "4ab7affc",
   "metadata": {},
   "outputs": [],
   "source": [
    "# Añadir las etiquetas de los clusters\n",
    "valid_data['cluster_label'] = labels"
   ]
  },
  {
   "cell_type": "code",
   "execution_count": 18,
   "id": "6065be3a",
   "metadata": {},
   "outputs": [],
   "source": [
    "# Generar los ids ubicación y las etiquetas de los clusters\n",
    "output_data = pd.DataFrame({\n",
    "    'location_id': valid_data.index,\n",
    "    'cluster_label': labels\n",
    "})"
   ]
  },
  {
   "cell_type": "code",
   "execution_count": 19,
   "id": "398285e4",
   "metadata": {},
   "outputs": [],
   "source": [
    "# Las ubicaciones no válidas, se genera un cluster especial, -1\n",
    "invalid_data = pd.DataFrame({\n",
    "    'location_id': invalid_rows,\n",
    "    'cluster_label': -1\n",
    "})"
   ]
  },
  {
   "cell_type": "code",
   "execution_count": 20,
   "id": "9635f501",
   "metadata": {},
   "outputs": [],
   "source": [
    "# Combinar las ubicaciones válidas y no válidas\n",
    "final_data = pd.concat([output_data, invalid_data]).sort_values(by='location_id')"
   ]
  },
  {
   "cell_type": "code",
   "execution_count": 22,
   "id": "fcd291dc",
   "metadata": {},
   "outputs": [],
   "source": [
    "# Guardar el archivo de salida 'clusters.txt'\n",
    "final_data.to_csv('clusters.txt', sep=' ', header=False, index=False)"
   ]
  },
  {
   "cell_type": "code",
   "execution_count": 31,
   "id": "94bbb95c",
   "metadata": {},
   "outputs": [
    {
     "data": {
      "text/html": [
       "<div>\n",
       "<style scoped>\n",
       "    .dataframe tbody tr th:only-of-type {\n",
       "        vertical-align: middle;\n",
       "    }\n",
       "\n",
       "    .dataframe tbody tr th {\n",
       "        vertical-align: top;\n",
       "    }\n",
       "\n",
       "    .dataframe thead th {\n",
       "        text-align: right;\n",
       "    }\n",
       "</style>\n",
       "<table border=\"1\" class=\"dataframe\">\n",
       "  <thead>\n",
       "    <tr style=\"text-align: right;\">\n",
       "      <th></th>\n",
       "      <th>location_id</th>\n",
       "      <th>cluster_label</th>\n",
       "    </tr>\n",
       "  </thead>\n",
       "  <tbody>\n",
       "    <tr>\n",
       "      <th>0</th>\n",
       "      <td>0</td>\n",
       "      <td>0</td>\n",
       "    </tr>\n",
       "    <tr>\n",
       "      <th>1</th>\n",
       "      <td>1</td>\n",
       "      <td>0</td>\n",
       "    </tr>\n",
       "    <tr>\n",
       "      <th>2</th>\n",
       "      <td>2</td>\n",
       "      <td>1</td>\n",
       "    </tr>\n",
       "    <tr>\n",
       "      <th>3</th>\n",
       "      <td>3</td>\n",
       "      <td>2</td>\n",
       "    </tr>\n",
       "    <tr>\n",
       "      <th>4</th>\n",
       "      <td>4</td>\n",
       "      <td>0</td>\n",
       "    </tr>\n",
       "  </tbody>\n",
       "</table>\n",
       "</div>"
      ],
      "text/plain": [
       "   location_id  cluster_label\n",
       "0            0              0\n",
       "1            1              0\n",
       "2            2              1\n",
       "3            3              2\n",
       "4            4              0"
      ]
     },
     "execution_count": 31,
     "metadata": {},
     "output_type": "execute_result"
    }
   ],
   "source": [
    "final_data.head()"
   ]
  },
  {
   "cell_type": "code",
   "execution_count": 23,
   "id": "89919cac",
   "metadata": {},
   "outputs": [
    {
     "name": "stdout",
     "output_type": "stream",
     "text": [
      "<class 'pandas.core.frame.DataFrame'>\n",
      "Int64Index: 305 entries, 0 to 17\n",
      "Data columns (total 2 columns):\n",
      " #   Column         Non-Null Count  Dtype\n",
      "---  ------         --------------  -----\n",
      " 0   location_id    305 non-null    int64\n",
      " 1   cluster_label  305 non-null    int64\n",
      "dtypes: int64(2)\n",
      "memory usage: 7.1 KB\n"
     ]
    }
   ],
   "source": [
    "final_data.info()"
   ]
  },
  {
   "cell_type": "code",
   "execution_count": null,
   "id": "d5305195",
   "metadata": {},
   "outputs": [],
   "source": []
  }
 ],
 "metadata": {
  "kernelspec": {
   "display_name": "Python 3 (ipykernel)",
   "language": "python",
   "name": "python3"
  },
  "language_info": {
   "codemirror_mode": {
    "name": "ipython",
    "version": 3
   },
   "file_extension": ".py",
   "mimetype": "text/x-python",
   "name": "python",
   "nbconvert_exporter": "python",
   "pygments_lexer": "ipython3",
   "version": "3.9.13"
  }
 },
 "nbformat": 4,
 "nbformat_minor": 5
}
